{
 "cells": [
  {
   "cell_type": "markdown",
   "metadata": {},
   "source": [
    "## Pickling is process of preserving a python object like list, tuple etc for later use"
   ]
  },
  {
   "cell_type": "code",
   "execution_count": 4,
   "metadata": {},
   "outputs": [],
   "source": [
    "import pickle\n",
    "cars = [\"audi\", \"bmw\", \"maruti\"]\n",
    "file = \"mycar.pkl\"\n",
    "fileobj = open(file, 'wb')    # wb : write binary\n",
    "pickle.dump(cars, fileobj)\n",
    "fileobj.close()"
   ]
  },
  {
   "cell_type": "code",
   "execution_count": 6,
   "metadata": {},
   "outputs": [
    {
     "name": "stdout",
     "output_type": "stream",
     "text": [
      "['audi', 'bmw', 'maruti']\n",
      "<class 'list'>\n"
     ]
    }
   ],
   "source": [
    "file = \"mycar.pkl\"\n",
    "fileobj = open(file, 'rb')    # rb : read binary\n",
    "mycar = pickle.load(fileobj)\n",
    "print(mycar)\n",
    "print(type(mycar))"
   ]
  }
 ],
 "metadata": {
  "kernelspec": {
   "display_name": "Python 3",
   "language": "python",
   "name": "python3"
  },
  "language_info": {
   "codemirror_mode": {
    "name": "ipython",
    "version": 3
   },
   "file_extension": ".py",
   "mimetype": "text/x-python",
   "name": "python",
   "nbconvert_exporter": "python",
   "pygments_lexer": "ipython3",
   "version": "3.8.5"
  }
 },
 "nbformat": 4,
 "nbformat_minor": 4
}
